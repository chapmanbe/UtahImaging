{
 "metadata": {
  "kernelspec": {
   "codemirror_mode": {
    "name": "ipython",
    "version": 2
   },
   "display_name": "IPython (Python 2)",
   "language": "python",
   "name": "python2"
  },
  "name": "",
  "signature": "sha256:261a3a83aa1422a3a834a68eaa4f3805d38eef5464d04bea8ec549825a1d182f"
 },
 "nbformat": 3,
 "nbformat_minor": 0,
 "worksheets": [
  {
   "cells": [
    {
     "cell_type": "code",
     "collapsed": false,
     "input": [
      "import pydas\n",
      "from wrapPydas import wrapPydas as wp\n",
      "import SimpleITK as sitk\n",
      "import matplotlib.pyplot as pp"
     ],
     "language": "python",
     "metadata": {},
     "outputs": []
    },
    {
     "cell_type": "code",
     "collapsed": false,
     "input": [
      "\n",
      "pcd = wp.wrapPydas(\"brian.chapman@utah.edu\",token=u\"gxwYbPVlgriFO4B6JPeIHPLEU4Bg2lN9I9XKOIVV\",url=\"http://155.100.62.165/midas\")\n",
      "fname = pcd.getFileName(\"PittCTPA\",\"Private/TestData\",\"pe0017s4.mha\")\n",
      "img = sitk.ReadImage(str(fname))"
     ],
     "language": "python",
     "metadata": {},
     "outputs": []
    },
    {
     "cell_type": "markdown",
     "metadata": {},
     "outputs": [],
     "source": [
      "## Now generate derived data doing some simple manipulations in SimpleITK"
     ]
    },
    {
     "cell_type": "code",
     "collapsed": false,
     "input": [
      "mipz = sitk.MaximumProjection(img,2)\n",
      "mipy = sitk.MaximumProjection(img,1)\n",
      "mipx = sitk.MaximumProjection(img,0)\n",
      "sitk.WriteImage(mipz,\"/tmp/pe0017s4_zmip.nii.gz\")\n",
      "sitk.WriteImage(mipy,\"/tmp/pe0017s4_ymip.nii.gz\")\n",
      "sitk.WriteImage(mipx,\"/tmp/pe0017s4_xmip.nii.gz\")"
     ],
     "language": "python",
     "metadata": {},
     "outputs": []
    },
    {
     "cell_type": "code",
     "collapsed": false,
     "input": [
      "itemz = pcd.findItemInPath(pcd.community_id,pcd.folders[:],\"pe0017s4_zmip.nii.gz\")\n",
      "itemy = pcd.findItemInPath(pcd.community_id,pcd.folders[:],\"pe0017s4_ymip.nii.gz\")\n",
      "itemx = pcd.findItemInPath(pcd.community_id,pcd.folders[:],\"pe0017s4_xmip.nii.gz\")\n",
      "print itemz,itemy,itemx"
     ],
     "language": "python",
     "metadata": {},
     "outputs": []
    },
    {
     "cell_type": "code",
     "collapsed": false,
     "input": [
      "if( itemz ):\n",
      "    print \"deleting itemz\"\n",
      "    pcd.driver.delete_item(pcd.token,itemz['item_id'])\n",
      "    \n",
      "if( itemy ):\n",
      "    print \"deleting itemy\"\n",
      "    pcd.driver.delete_item(pcd.token,itemy['item_id'])\n",
      "    \n",
      "if( itemx ):\n",
      "    print \"deleting itemx\"\n",
      "    pcd.driver.delete_item(pcd.token,itemx['item_id'])"
     ],
     "language": "python",
     "metadata": {},
     "outputs": []
    },
    {
     "cell_type": "markdown",
     "metadata": {},
     "outputs": [],
     "source": [
      "## Now Upload derived files"
     ]
    },
    {
     "cell_type": "code",
     "collapsed": false,
     "input": [
      "print pcd.item\n",
      "print pcd.community_id"
     ],
     "language": "python",
     "metadata": {},
     "outputs": []
    },
    {
     "cell_type": "code",
     "collapsed": false,
     "input": [
      "pcd.uploadDerivedFile(src=\"/tmp/pe0017s4_zmip.nii.gz\",dest=\"pe0017s4_zmip.nii.gz\",description=\"This is a zmip generated from pe0017s4.mha\",\n",
      "                      metadatapairs=[(\"Processing Algorithm\",\"SimpleITK\"),(\"Direction\",2)],\n",
      "                      privacy=\"Public\")\n",
      "pcd.uploadDerivedFile(src=\"/tmp/pe0017s4_ymip.nii.gz\",dest=\"pe0017s4_ymip.nii.gz\",description=\"This is a ymip generated from pe0017s4.mha\",\n",
      "                      metadatapairs=[(\"Processing Algorithm\",\"SimpleITK\"),(\"Direction\",1)],\n",
      "                      privacy=\"Public\")\n",
      "pcd.uploadDerivedFile(src=\"/tmp/pe0017s4_xmip.nii.gz\",dest=\"pe0017s4_xmip.nii.gz\",description=\"This is a xmip generated from pe0017s4.mha\",\n",
      "                      metadatapairs=[(\"Processing Algorithm\",\"SimpleITK\"),(\"Direction\",0)],\n",
      "                      privacy=\"Public\")\n"
     ],
     "language": "python",
     "metadata": {},
     "outputs": []
    },
    {
     "cell_type": "code",
     "collapsed": false,
     "input": [
      "print mipz.GetSize(),mipy.GetSize(),mipx.GetSize()\n",
      "amipz = sitk.GetArrayFromImage(mipz)\n",
      "amipy = sitk.GetArrayFromImage(mipy)\n",
      "amipx = sitk.GetArrayFromImage(mipx)\n",
      "pp.gray()\n",
      "pp.figure(0)\n",
      "pp.imshow(amipz[0,:,:])\n",
      "pp.figure(1)\n",
      "pp.imshow(amipy[:,0,:])\n",
      "pp.figure(2)\n",
      "pp.imshow(amipx[:,:,0])\n",
      "pp.gray()\n",
      "pp.show()"
     ],
     "language": "python",
     "metadata": {},
     "outputs": []
    },
    {
     "cell_type": "code",
     "collapsed": false,
     "input": [],
     "language": "python",
     "metadata": {},
     "outputs": []
    },
    {
     "cell_type": "code",
     "collapsed": false,
     "input": [
      "fnamez = pcd.getFileName(\"PittCTPA\",\"Private/TestData\",\"pe0017s4_zmip.nii.gz\")\n",
      "fnamey = pcd.getFileName(\"PittCTPA\",\"Private/TestData\",\"pe0017s4_ymip.nii.gz\")\n",
      "fnamex = pcd.getFileName(\"PittCTPA\",\"Private/TestData\",\"pe0017s4_xmip.nii.gz\")\n"
     ],
     "language": "python",
     "metadata": {},
     "outputs": []
    },
    {
     "cell_type": "code",
     "collapsed": false,
     "input": [
      "mipz = sitk.ReadImage(str(fnamez))\n",
      "mipy = sitk.ReadImage(str(fnamey))\n",
      "mipx = sitk.ReadImage(str(fnamex))\n",
      "\n",
      "amipz = sitk.GetArrayFromImage(mipz)\n",
      "amipy = sitk.GetArrayFromImage(mipy)\n",
      "amipx = sitk.GetArrayFromImage(mipx)\n",
      "\n",
      "pp.figure(0)\n",
      "pp.imshow(amipz[0,:,:])\n",
      "pp.figure(1)\n",
      "pp.imshow(amipy[:,0,:])\n",
      "pp.figure(2)\n",
      "pp.imshow(amipx[:,:,0])\n",
      "pp.gray()\n",
      "pp.show()"
     ],
     "language": "python",
     "metadata": {},
     "outputs": []
    },
    {
     "cell_type": "code",
     "collapsed": false,
     "input": [
      "import shutil\n",
      "shutil.rmtree(pcd.writeRoot)\n"
     ],
     "language": "python",
     "metadata": {},
     "outputs": []
    },
    {
     "cell_type": "code",
     "collapsed": false,
     "input": [
      "import os\n",
      "print os.path.exists(pcd.writeRoot)"
     ],
     "language": "python",
     "metadata": {},
     "outputs": []
    },
    {
     "cell_type": "code",
     "collapsed": false,
     "input": [
      "os.mkdir(pcd.writeRoot)"
     ],
     "language": "python",
     "metadata": {},
     "outputs": []
    },
    {
     "cell_type": "code",
     "collapsed": false,
     "input": [],
     "language": "python",
     "metadata": {},
     "outputs": []
    }
   ],
   "metadata": {}
  }
 ]
}