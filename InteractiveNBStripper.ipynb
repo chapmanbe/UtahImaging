{
 "metadata": {
  "kernelspec": {
   "codemirror_mode": {
    "name": "ipython",
    "version": 2
   },
   "display_name": "IPython (Python 2)",
   "language": "python",
   "name": "python2"
  },
  "name": "",
  "signature": "sha256:7a24681250e7aa435270bd19cac40e4b629fcf04f0ce1ce9cc46a4231e7a40e7"
 },
 "nbformat": 3,
 "nbformat_minor": 0,
 "worksheets": [
  {
   "cells": [
    {
     "cell_type": "heading",
     "level": 1,
     "metadata": {},
     "source": [
      "Strip Notebook and Commit to Git Respository"
     ]
    },
    {
     "cell_type": "markdown",
     "metadata": {},
     "source": [
      "Need to see if I can use [gitpython](https://pypi.python.org/pypi/GitPython/0.3.6) to simplify this."
     ]
    },
    {
     "cell_type": "code",
     "collapsed": false,
     "input": [
      "from IPython.nbformat import current\n",
      "from IPython.html import widgets\n",
      "from IPython.display import clear_output, display, HTML\n",
      "from IPython.html.widgets import interact, interactive, fixed\n",
      "import io\n",
      "from os import remove, rename\n",
      "from shutil import copyfile\n",
      "import subprocess\n",
      "from sys import argv\n",
      "import os\n",
      "import subprocess\n",
      "\n",
      "def strip_and_commit(filename, message):\n",
      "    print filename,message\n",
      "    # Backup the current filename \n",
      "    backup_filename = filename + \".backup\"\n",
      "    copyfile(filename,backup_filename)\n",
      "    try:\n",
      "        # Read in the notebook\n",
      "        with io.open(filename,'r',encoding='utf-8') as f:\n",
      "            notebook = current.reads(f.read(),format=\"ipynb\")\n",
      "\n",
      "        # Strip out all of the output and prompt_number sections\n",
      "        for worksheet in notebook[\"worksheets\"]:\n",
      "            for cell in worksheet[\"cells\"]:\n",
      "                cell.outputs = []\n",
      "                if \"prompt_number\" in cell:\n",
      "                    del cell[\"prompt_number\"]\n",
      "\n",
      "        # Write the stripped file\n",
      "        with io.open(filename, 'w', encoding='utf-8') as f:\n",
      "            current.write(notebook,f,format='ipynb')\n",
      "\n",
      "        # Run git add to stage the non-output changes\n",
      "        subprocess.call([\"git\",\"add\",filename])\n",
      "        subprocess.call([\"git\",\"commit\",\"-m\",message])\n",
      "    finally:\n",
      "        # Restore the original file;  remove is needed in case\n",
      "        # we are running in windows.\n",
      "        remove(filename)\n",
      "        rename(backup_filename,filename)\n",
      "\n",
      "    \n",
      "def commit_notebook(notebook=\"\", message=\"\", commit=False):\n",
      "    s = '<h3>Git Commit</h3><table>\\n'        \n",
      "    s += '<tr><td>{0}</td><td>{1}</td></tr>\\n'.format(\"Notebook to commit\",notebook)\n",
      "    s += '<tr><td>{0}</td><td>{1}</td></tr>\\n'.format(\"Commit message\",message)\n",
      "    s += '<tr><td>{0}</td><td>{1}</td></tr>\\n'.format(\"Commit\",commit)\n",
      "\n",
      "    s += '</table>'\n",
      "\n",
      "    display(HTML(s))\n",
      "    if commit:\n",
      "        strip_and_commit(notebook, message)\n",
      "        print \"added and commited notebook change\"\n",
      "        \n",
      "files = [ os.path.join(root,f) for root, dirs, files in os.walk(\".\") \n",
      "           for f in files if os.path.splitext(f)[1] == \".ipynb\" and '_checkpoints' not in root]\n",
      "i = interact(commit_notebook,notebook=files,\n",
      "         kmer=u'commit message',\n",
      "         )\n"
     ],
     "language": "python",
     "metadata": {},
     "outputs": [
      {
       "html": [
        "<h3>Git Commit</h3><table>\n",
        "<tr><td>Notebook to commit</td><td>./Untitled3.ipynb</td></tr>\n",
        "<tr><td>Commit message</td><td>so this would be my message</td></tr>\n",
        "<tr><td>Commit</td><td>True</td></tr>\n",
        "</table>"
       ],
       "metadata": {},
       "output_type": "display_data",
       "text": [
        "<IPython.core.display.HTML at 0x10685b450>"
       ]
      },
      {
       "output_type": "stream",
       "stream": "stdout",
       "text": [
        "./Untitled3.ipynb so this would be my message\n",
        "added and commited notebook change\n"
       ]
      }
     ],
     "prompt_number": 1
    },
    {
     "cell_type": "code",
     "collapsed": false,
     "input": [],
     "language": "python",
     "metadata": {},
     "outputs": []
    }
   ],
   "metadata": {}
  }
 ]
}