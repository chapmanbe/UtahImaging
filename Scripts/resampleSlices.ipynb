{
 "metadata": {
  "name": "",
  "signature": "sha256:fe3feca3f072f97d8119d081000f885ac6012ee229494e61ecbbe98d8aabad69"
 },
 "nbformat": 3,
 "nbformat_minor": 0,
 "worksheets": [
  {
   "cells": [
    {
     "cell_type": "code",
     "collapsed": false,
     "input": [
      "import SimpleITK as sitk\n",
      "import os\n",
      "import glob\n",
      "import dicom"
     ],
     "language": "python",
     "metadata": {},
     "outputs": [],
     "prompt_number": 29
    },
    {
     "cell_type": "code",
     "collapsed": false,
     "input": [
      "dest_dir = \"/media/brian/CCTS/DeepLearning/PAH_Measurement_Slice\""
     ],
     "language": "python",
     "metadata": {},
     "outputs": [],
     "prompt_number": 6
    },
    {
     "cell_type": "code",
     "collapsed": false,
     "input": [
      "files = glob.glob(os.path.join(dest_dir,\"*.dcm\"))"
     ],
     "language": "python",
     "metadata": {},
     "outputs": [],
     "prompt_number": 7
    },
    {
     "cell_type": "code",
     "collapsed": false,
     "input": [
      "print len(files)"
     ],
     "language": "python",
     "metadata": {},
     "outputs": [
      {
       "output_type": "stream",
       "stream": "stdout",
       "text": [
        "121\n"
       ]
      }
     ],
     "prompt_number": 8
    },
    {
     "cell_type": "code",
     "collapsed": false,
     "input": [
      "resample = sitk.ResampleImageFilter()"
     ],
     "language": "python",
     "metadata": {},
     "outputs": [],
     "prompt_number": 3
    },
    {
     "cell_type": "code",
     "collapsed": false,
     "input": [
      "img = sitk.ReadImage(files[0])\n",
      "print img.GetSize()"
     ],
     "language": "python",
     "metadata": {},
     "outputs": [
      {
       "output_type": "stream",
       "stream": "stdout",
       "text": [
        "(512, 512, 1)\n"
       ]
      }
     ],
     "prompt_number": 49
    },
    {
     "cell_type": "code",
     "collapsed": false,
     "input": [
      "resample.SetOutputDirection(img.GetDirection())\n",
      "resample.SetOutputOrigin(img.GetOrigin())\n",
      "resample.SetOutputSpacing(outSp)\n",
      "resample.SetSize((256,256,1))\n",
      "img2 = resample.Execute(img)\n",
      "                            "
     ],
     "language": "python",
     "metadata": {},
     "outputs": [],
     "prompt_number": 50
    },
    {
     "cell_type": "code",
     "collapsed": false,
     "input": [
      "resample.SetSize?"
     ],
     "language": "python",
     "metadata": {},
     "outputs": [],
     "prompt_number": 43
    },
    {
     "cell_type": "code",
     "collapsed": false,
     "input": [
      "print img2.GetOrigin()\n",
      "print img2.GetDirection()\n",
      "print img2.GetSpacing()\n",
      "print img2.GetSize()"
     ],
     "language": "python",
     "metadata": {},
     "outputs": [
      {
       "output_type": "stream",
       "stream": "stdout",
       "text": [
        "(-200.0, -200.0, -75.0)\n",
        "(1.0, 0.0, 0.0, 0.0, 1.0, 0.0, 0.0, 0.0, 1.0)\n",
        "(1.5625, 1.5625, 1.0)\n",
        "(256, 256, 1)\n"
       ]
      }
     ],
     "prompt_number": 51
    },
    {
     "cell_type": "code",
     "collapsed": false,
     "input": [
      "r1 = sitk.Resample()"
     ],
     "language": "python",
     "metadata": {},
     "outputs": [
      {
       "ename": "NotImplementedError",
       "evalue": "Wrong number or type of arguments for overloaded function 'Resample'.\n  Possible C/C++ prototypes are:\n    itk::simple::Resample(itk::simple::Image const &,itk::simple::Transform,itk::simple::InterpolatorEnum,double,itk::simple::PixelIDValueEnum)\n    itk::simple::Resample(itk::simple::Image const &,itk::simple::Image const &,itk::simple::Transform,itk::simple::InterpolatorEnum,double,itk::simple::PixelIDValueEnum)\n    itk::simple::Resample(itk::simple::Image const &,std::vector< uint32_t,std::allocator< uint32_t > >,itk::simple::Transform,itk::simple::InterpolatorEnum,std::vector< double,std::allocator< double > >,std::vector< double,std::allocator< double > >,std::vector< double,std::allocator< double > >,double,itk::simple::PixelIDValueEnum)\n",
       "output_type": "pyerr",
       "traceback": [
        "\u001b[1;31m---------------------------------------------------------------------------\u001b[0m\n\u001b[1;31mNotImplementedError\u001b[0m                       Traceback (most recent call last)",
        "\u001b[1;32m<ipython-input-27-2aa24380368b>\u001b[0m in \u001b[0;36m<module>\u001b[1;34m()\u001b[0m\n\u001b[1;32m----> 1\u001b[1;33m \u001b[0mr1\u001b[0m \u001b[1;33m=\u001b[0m \u001b[0msitk\u001b[0m\u001b[1;33m.\u001b[0m\u001b[0mResample\u001b[0m\u001b[1;33m(\u001b[0m\u001b[1;33m)\u001b[0m\u001b[1;33m\u001b[0m\u001b[0m\n\u001b[0m",
        "\u001b[1;32m/home/brian/anaconda/lib/python2.7/site-packages/SimpleITK-0.8.0-py2.7-linux-x86_64.egg/SimpleITK/SimpleITK.pyc\u001b[0m in \u001b[0;36mResample\u001b[1;34m(*args)\u001b[0m\n\u001b[0;32m   5655\u001b[0m         itk::simple::PixelIDValueEnum outputPixelType=sitkUnknown) -> Image\n\u001b[0;32m   5656\u001b[0m     \"\"\"\n\u001b[1;32m-> 5657\u001b[1;33m   \u001b[1;32mreturn\u001b[0m \u001b[0m_SimpleITK\u001b[0m\u001b[1;33m.\u001b[0m\u001b[0mResample\u001b[0m\u001b[1;33m(\u001b[0m\u001b[1;33m*\u001b[0m\u001b[0margs\u001b[0m\u001b[1;33m)\u001b[0m\u001b[1;33m\u001b[0m\u001b[0m\n\u001b[0m\u001b[0;32m   5658\u001b[0m \u001b[1;33m\u001b[0m\u001b[0m\n\u001b[0;32m   5659\u001b[0m \u001b[1;32mdef\u001b[0m \u001b[0mPatchBasedDenoising\u001b[0m\u001b[1;33m(\u001b[0m\u001b[1;33m*\u001b[0m\u001b[0margs\u001b[0m\u001b[1;33m)\u001b[0m\u001b[1;33m:\u001b[0m\u001b[1;33m\u001b[0m\u001b[0m\n",
        "\u001b[1;31mNotImplementedError\u001b[0m: Wrong number or type of arguments for overloaded function 'Resample'.\n  Possible C/C++ prototypes are:\n    itk::simple::Resample(itk::simple::Image const &,itk::simple::Transform,itk::simple::InterpolatorEnum,double,itk::simple::PixelIDValueEnum)\n    itk::simple::Resample(itk::simple::Image const &,itk::simple::Image const &,itk::simple::Transform,itk::simple::InterpolatorEnum,double,itk::simple::PixelIDValueEnum)\n    itk::simple::Resample(itk::simple::Image const &,std::vector< uint32_t,std::allocator< uint32_t > >,itk::simple::Transform,itk::simple::InterpolatorEnum,std::vector< double,std::allocator< double > >,std::vector< double,std::allocator< double > >,std::vector< double,std::allocator< double > >,double,itk::simple::PixelIDValueEnum)\n"
       ]
      }
     ],
     "prompt_number": 27
    },
    {
     "cell_type": "code",
     "collapsed": false,
     "input": [],
     "language": "python",
     "metadata": {},
     "outputs": []
    },
    {
     "cell_type": "code",
     "collapsed": false,
     "input": [],
     "language": "python",
     "metadata": {},
     "outputs": []
    }
   ],
   "metadata": {}
  }
 ]
}