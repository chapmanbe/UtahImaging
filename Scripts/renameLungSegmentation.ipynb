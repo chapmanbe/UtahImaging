{
 "metadata": {
  "name": "",
  "signature": "sha256:879f073abdf4fb4944bc0a6fd70d29cc80d7ceedc0f4d111c6114bf7f89ee8b2"
 },
 "nbformat": 3,
 "nbformat_minor": 0,
 "worksheets": [
  {
   "cells": [
    {
     "cell_type": "code",
     "collapsed": false,
     "input": [
      "import os\n",
      "import glob\n"
     ],
     "language": "python",
     "metadata": {},
     "outputs": [],
     "prompt_number": 1
    },
    {
     "cell_type": "code",
     "collapsed": false,
     "input": [
      "ddir = \"/media/brian/CCTS/LungSegmentation\"\n",
      "files = glob.glob(os.path.join(ddir,\"*.nii.gz\"))"
     ],
     "language": "python",
     "metadata": {},
     "outputs": [],
     "prompt_number": 3
    },
    {
     "cell_type": "code",
     "collapsed": false,
     "input": [
      "f = files[0]\n",
      "print f"
     ],
     "language": "python",
     "metadata": {},
     "outputs": [
      {
       "output_type": "stream",
       "stream": "stdout",
       "text": [
        "/media/brian/CCTS/LungSegmentation/_PE000002_Exam_19294_Ser_000004.nii.gz\n"
       ]
      }
     ],
     "prompt_number": 4
    },
    {
     "cell_type": "code",
     "collapsed": false,
     "input": [
      "for f in files:\n",
      "    f2 = f.replace(\"_P\",\"P\").replace(\"_Exam\",\"__Exam\").replace(\"_Ser\",\"__Ser\")\n",
      "    os.rename(f,f2)\n"
     ],
     "language": "python",
     "metadata": {},
     "outputs": [],
     "prompt_number": 6
    },
    {
     "cell_type": "code",
     "collapsed": false,
     "input": [],
     "language": "python",
     "metadata": {},
     "outputs": []
    }
   ],
   "metadata": {}
  }
 ]
}