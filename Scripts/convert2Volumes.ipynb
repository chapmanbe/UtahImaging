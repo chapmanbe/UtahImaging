{
 "metadata": {
  "name": "",
  "signature": "sha256:9a40493c503ebcfe3b603c58b711ffbf2468006f732a47a546e564df60216b54"
 },
 "nbformat": 3,
 "nbformat_minor": 0,
 "worksheets": [
  {
   "cells": [
    {
     "cell_type": "code",
     "collapsed": false,
     "input": [
      "%matplotlib inline"
     ],
     "language": "python",
     "metadata": {},
     "outputs": [],
     "prompt_number": 1
    },
    {
     "cell_type": "code",
     "collapsed": false,
     "input": [
      "from IPython.parallel import Client\n"
     ],
     "language": "python",
     "metadata": {},
     "outputs": [],
     "prompt_number": 2
    },
    {
     "cell_type": "code",
     "collapsed": false,
     "input": [
      "rc = Client()\n",
      "dview = rc[:]\n"
     ],
     "language": "python",
     "metadata": {},
     "outputs": [],
     "prompt_number": 3
    },
    {
     "cell_type": "code",
     "collapsed": false,
     "input": [
      "import dicomUtils\n",
      "from IPython.parallel import require"
     ],
     "language": "python",
     "metadata": {},
     "outputs": [],
     "prompt_number": 8
    },
    {
     "cell_type": "code",
     "collapsed": false,
     "input": [
      "import SimpleITK as sitk\n",
      "import dicomUtils\n",
      "import glob\n",
      "import os\n",
      "import dicom\n"
     ],
     "language": "python",
     "metadata": {},
     "outputs": [],
     "prompt_number": 10
    },
    {
     "cell_type": "code",
     "collapsed": false,
     "input": [
      "ddir = \"/media/brian/MyData/HD1/Repository/PittPAH\"\n",
      "outdir = \"/media/brian/CCTS/PittVolumes\"\n",
      "if not os.path.exists(outdir):\n",
      "    os.mkdir(outdir)\n"
     ],
     "language": "python",
     "metadata": {},
     "outputs": [],
     "prompt_number": 13
    },
    {
     "cell_type": "code",
     "collapsed": false,
     "input": [
      "@require(sitk,os,sitk,dicom,dicomUtils)\n",
      "def convertDir(cmd):\n",
      "    try:\n",
      "        root = cmd[0]\n",
      "        d = cmd[1]\n",
      "        ddir = cmd[2]\n",
      "        outdir = cmd[3]\n",
      "\n",
      "        fname = os.path.join(root,d)\n",
      "        tmp = fname.split(ddir)[1].replace(\" \",\"\")\n",
      "        tmp = tmp.split(os.path.sep)\n",
      "        #tmp = [t.replace(\" \",\"\") for t in tmp]\n",
      "        outname = \"__\".join(tmp)+\".nii.gz\"\n",
      "        print d,outname\n",
      "        files = dicomUtils.getOrderedListOfFiles(fname)\n",
      "        reader = sitk.ImageSeriesReader()\n",
      "        reader.SetFileNames(files)\n",
      "        img = reader.Execute()\n",
      "        sitk.WriteImage(img,os.path.join(outdir,outname))\n",
      "        return outname\n",
      "    except Exception, error:\n",
      "        return error\n",
      "\n"
     ],
     "language": "python",
     "metadata": {},
     "outputs": [],
     "prompt_number": 19
    },
    {
     "cell_type": "code",
     "collapsed": false,
     "input": [
      "cmds = []\n",
      "for root, dirs, files in os.walk(ddir):\n",
      "    for d in dirs:\n",
      "        try:\n",
      "            dfs = glob.glob(os.path.join(root,d,\"*.dcm\"))\n",
      "            df = dicom.read_file(dfs[0],stop_before_pixels = True)\n",
      "            #if \"BOTTOM\" in df.SeriesDescription.upper():\n",
      "            cmds.append((root,d,ddir,outdir))\n",
      "        except:\n",
      "            pass\n",
      "                \n",
      "    #cmds = [(root,d,ddir,outdir) for d in dirs]\n",
      "    "
     ],
     "language": "python",
     "metadata": {},
     "outputs": [],
     "prompt_number": 16
    },
    {
     "cell_type": "code",
     "collapsed": false,
     "input": [
      "print cmds"
     ],
     "language": "python",
     "metadata": {},
     "outputs": [
      {
       "output_type": "stream",
       "stream": "stdout",
       "text": [
        "[('/media/brian/MyData/HD1/Repository/PittPAH/RV20CT/unnamed - 0', 'unnamed_5', '/media/brian/MyData/HD1/Repository/PittPAH', '/media/brian/CCTS/PittVolumes'), ('/media/brian/MyData/HD1/Repository/PittPAH/RV12DC/unnamed - 0', 'unnamed_5', '/media/brian/MyData/HD1/Repository/PittPAH', '/media/brian/CCTS/PittVolumes'), ('/media/brian/MyData/HD1/Repository/PittPAH/RV11AO/unnamed - 0', 'unnamed_4', '/media/brian/MyData/HD1/Repository/PittPAH', '/media/brian/CCTS/PittVolumes'), ('/media/brian/MyData/HD1/Repository/PittPAH/RV09JV/unnamed - 0', 'unnamed_5', '/media/brian/MyData/HD1/Repository/PittPAH', '/media/brian/CCTS/PittVolumes'), ('/media/brian/MyData/HD1/Repository/PittPAH/RV06AP/unnamed - 0', 'unnamed_5', '/media/brian/MyData/HD1/Repository/PittPAH', '/media/brian/CCTS/PittVolumes'), ('/media/brian/MyData/HD1/Repository/PittPAH/RV03CH/unnamed - 0', 'unnamed_5', '/media/brian/MyData/HD1/Repository/PittPAH', '/media/brian/CCTS/PittVolumes'), ('/media/brian/MyData/HD1/Repository/PittPAH/RV28TB/unnamed - 0', 'unnamed_4', '/media/brian/MyData/HD1/Repository/PittPAH', '/media/brian/CCTS/PittVolumes'), ('/media/brian/MyData/HD1/Repository/PittPAH/RV29PF/unnamed - 0', 'unnamed_4', '/media/brian/MyData/HD1/Repository/PittPAH', '/media/brian/CCTS/PittVolumes'), ('/media/brian/MyData/HD1/Repository/PittPAH/RV33TM/unnamed - 0', 'unnamed_4', '/media/brian/MyData/HD1/Repository/PittPAH', '/media/brian/CCTS/PittVolumes'), ('/media/brian/MyData/HD1/Repository/PittPAH/RV13CB/unnamed - 0', 'unnamed_5', '/media/brian/MyData/HD1/Repository/PittPAH', '/media/brian/CCTS/PittVolumes'), ('/media/brian/MyData/HD1/Repository/PittPAH/RV27TH/unnamed - 0', 'unnamed_4', '/media/brian/MyData/HD1/Repository/PittPAH', '/media/brian/CCTS/PittVolumes'), ('/media/brian/MyData/HD1/Repository/PittPAH/RV24JF/unnamed - 0', 'unnamed_4', '/media/brian/MyData/HD1/Repository/PittPAH', '/media/brian/CCTS/PittVolumes'), ('/media/brian/MyData/HD1/Repository/PittPAH/RV19RD/unnamed - 0', 'unnamed_4', '/media/brian/MyData/HD1/Repository/PittPAH', '/media/brian/CCTS/PittVolumes'), ('/media/brian/MyData/HD1/Repository/PittPAH/RV38JM/unnamed - 0', 'unnamed_3', '/media/brian/MyData/HD1/Repository/PittPAH', '/media/brian/CCTS/PittVolumes'), ('/media/brian/MyData/HD1/Repository/PittPAH/RV41CB/unnamed - 0', 'unnamed_3', '/media/brian/MyData/HD1/Repository/PittPAH', '/media/brian/CCTS/PittVolumes'), ('/media/brian/MyData/HD1/Repository/PittPAH/RV40RS/unnamed - 0', 'unnamed_4', '/media/brian/MyData/HD1/Repository/PittPAH', '/media/brian/CCTS/PittVolumes'), ('/media/brian/MyData/HD1/Repository/PittPAH/RV25KN/unnamed - 0', 'unnamed_5', '/media/brian/MyData/HD1/Repository/PittPAH', '/media/brian/CCTS/PittVolumes'), ('/media/brian/MyData/HD1/Repository/PittPAH/RV01DW/unnamed - 0', 'unnamed_5', '/media/brian/MyData/HD1/Repository/PittPAH', '/media/brian/CCTS/PittVolumes'), ('/media/brian/MyData/HD1/Repository/PittPAH/RV34VS/unnamed - 0', 'unnamed_4', '/media/brian/MyData/HD1/Repository/PittPAH', '/media/brian/CCTS/PittVolumes'), ('/media/brian/MyData/HD1/Repository/PittPAH/RV10JB/unnamed - 0', 'unnamed_4', '/media/brian/MyData/HD1/Repository/PittPAH', '/media/brian/CCTS/PittVolumes'), ('/media/brian/MyData/HD1/Repository/PittPAH/RV16JW/unnamed - 0', 'unnamed_4', '/media/brian/MyData/HD1/Repository/PittPAH', '/media/brian/CCTS/PittVolumes'), ('/media/brian/MyData/HD1/Repository/PittPAH/RV32ST/unnamed - 0', 'unnamed_4', '/media/brian/MyData/HD1/Repository/PittPAH', '/media/brian/CCTS/PittVolumes'), ('/media/brian/MyData/HD1/Repository/PittPAH/RV35RH/unnamed - 0', 'unnamed_4', '/media/brian/MyData/HD1/Repository/PittPAH', '/media/brian/CCTS/PittVolumes'), ('/media/brian/MyData/HD1/Repository/PittPAH/RV08JR/unnamed - 0', 'unnamed_5', '/media/brian/MyData/HD1/Repository/PittPAH', '/media/brian/CCTS/PittVolumes'), ('/media/brian/MyData/HD1/Repository/PittPAH/RV36LH/unnamed - 0', 'unnamed_4', '/media/brian/MyData/HD1/Repository/PittPAH', '/media/brian/CCTS/PittVolumes'), ('/media/brian/MyData/HD1/Repository/PittPAH/RV15GC/unnamed - 0', 'unnamed_5', '/media/brian/MyData/HD1/Repository/PittPAH', '/media/brian/CCTS/PittVolumes'), ('/media/brian/MyData/HD1/Repository/PittPAH/RV23RB/unnamed - 0', 'unnamed_4', '/media/brian/MyData/HD1/Repository/PittPAH', '/media/brian/CCTS/PittVolumes'), ('/media/brian/MyData/HD1/Repository/PittPAH/RV37MW/unnamed - 0', 'unnamed_4', '/media/brian/MyData/HD1/Repository/PittPAH', '/media/brian/CCTS/PittVolumes'), ('/media/brian/MyData/HD1/Repository/PittPAH/RV05TH/unnamed - 0', 'unnamed_5', '/media/brian/MyData/HD1/Repository/PittPAH', '/media/brian/CCTS/PittVolumes')]\n"
       ]
      }
     ],
     "prompt_number": 17
    },
    {
     "cell_type": "code",
     "collapsed": false,
     "input": [
      "rslts = dview.map_async(convertDir,cmds).get()"
     ],
     "language": "python",
     "metadata": {},
     "outputs": [],
     "prompt_number": 20
    },
    {
     "cell_type": "code",
     "collapsed": false,
     "input": [
      "print rslts\n"
     ],
     "language": "python",
     "metadata": {},
     "outputs": [
      {
       "output_type": "stream",
       "stream": "stdout",
       "text": [
        "['__RV20CT__unnamed-0__unnamed_5.nii.gz', '__RV12DC__unnamed-0__unnamed_5.nii.gz', '__RV11AO__unnamed-0__unnamed_4.nii.gz', '__RV09JV__unnamed-0__unnamed_5.nii.gz', '__RV06AP__unnamed-0__unnamed_5.nii.gz', '__RV03CH__unnamed-0__unnamed_5.nii.gz', '__RV28TB__unnamed-0__unnamed_4.nii.gz', '__RV29PF__unnamed-0__unnamed_4.nii.gz', '__RV33TM__unnamed-0__unnamed_4.nii.gz', '__RV13CB__unnamed-0__unnamed_5.nii.gz', '__RV27TH__unnamed-0__unnamed_4.nii.gz', '__RV24JF__unnamed-0__unnamed_4.nii.gz', '__RV19RD__unnamed-0__unnamed_4.nii.gz', '__RV38JM__unnamed-0__unnamed_3.nii.gz', '__RV41CB__unnamed-0__unnamed_3.nii.gz', '__RV40RS__unnamed-0__unnamed_4.nii.gz', '__RV25KN__unnamed-0__unnamed_5.nii.gz', '__RV01DW__unnamed-0__unnamed_5.nii.gz', '__RV34VS__unnamed-0__unnamed_4.nii.gz', '__RV10JB__unnamed-0__unnamed_4.nii.gz', '__RV16JW__unnamed-0__unnamed_4.nii.gz', '__RV32ST__unnamed-0__unnamed_4.nii.gz', '__RV35RH__unnamed-0__unnamed_4.nii.gz', '__RV08JR__unnamed-0__unnamed_5.nii.gz', '__RV36LH__unnamed-0__unnamed_4.nii.gz', '__RV15GC__unnamed-0__unnamed_5.nii.gz', '__RV23RB__unnamed-0__unnamed_4.nii.gz', '__RV37MW__unnamed-0__unnamed_4.nii.gz', '__RV05TH__unnamed-0__unnamed_5.nii.gz']\n"
       ]
      }
     ],
     "prompt_number": 21
    },
    {
     "cell_type": "code",
     "collapsed": false,
     "input": [],
     "language": "python",
     "metadata": {},
     "outputs": [],
     "prompt_number": 22
    },
    {
     "cell_type": "code",
     "collapsed": false,
     "input": [],
     "language": "python",
     "metadata": {},
     "outputs": []
    }
   ],
   "metadata": {}
  }
 ]
}